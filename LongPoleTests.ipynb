{
 "cells": [
  {
   "cell_type": "code",
   "execution_count": 121,
   "metadata": {},
   "outputs": [],
   "source": [
    "# setup\n",
    "import pathlib as pl\n",
    "import math\n",
    "\n",
    "from matplotlib import pyplot as plt\n",
    "plt.style.use('seaborn')\n",
    "\n",
    "%matplotlib inline\n",
    "# helper functions\n",
    "\n",
    "def prettyPrintAllocations(procTestLists):\n",
    "    \"\"\"\n",
    "        Pretty-prints a list of lists of test assignments for each processor\n",
    "    \"\"\"\n",
    "    pWidth = 1+len(str(len(procTestLists)))\n",
    "    tWidth = 1+len(str(max(e for l in procTestLists for e in l)))\n",
    "    for pIdx, tList in enumerate(procTestLists):        \n",
    "        print(\"proc {:>{pWidth}} > {}\".format(pIdx, \" \".join(\"{:>{tWidth}}\".format(t, tWidth=tWidth) for t in tList),\n",
    "              pWidth=pWidth))\n",
    "\n",
    "def prettyPrintStats(procTestLists):\n",
    "    \"\"\"\n",
    "        Pretty-prints a list of the number and sums of test assignments for each processor\n",
    "    \"\"\"\n",
    "    counts = [len(l) for l in procTestLists]\n",
    "    sums = [sum(l) for l in procTestLists]\n",
    "\n",
    "    pWidth = 1+len(str(len(procTestLists)))\n",
    "    cntWidth = 1+len(str(max(counts)))\n",
    "    sumWidth = 1+len(str(max(int(s) for s in sums)))\n",
    "    for pIdx, (pCnt, pSum) in enumerate(zip(counts, sums)):    \n",
    "        print(\"proc {:>{pWidth}} > #{:>{cntWidth}} tests Σ{:>{sumWidth}.2f} seconds\".format(pIdx, pCnt, pSum/1000,\n",
    "                cntWidth=cntWidth, sumWidth=sumWidth, pWidth=pWidth))\n",
    "\n",
    "def plotTestRuntimeDistribution(testRuntimes):\n",
    "    tCount = len(testRuntimes)\n",
    "\n",
    "    unit = 10**int(math.log10(tCount))\n",
    "    maxTick = unit * (tCount // unit)\n",
    "    \n",
    "    plt.plot(range(tCount), sorted(testRuntimes, reverse=True))\n",
    "    plt.xticks(range(0, 1+maxTick, int(maxTick/5)))\n",
    "    plt.ylabel(\"runtime / msecs\")\n",
    "    plt.xlabel(\"tests sorted by runtime\")\n",
    "    plt.show()\n",
    "    \n",
    "def plotDistributions(pSortedSums):\n",
    "    seriesCount = len(pSortedSums[0])\n",
    "    pSums = [sum(l)/1000 for l in pSortedSums]\n",
    "    processorTimes = [s/seriesCount for s in pSums]\n",
    "\n",
    "    plt.bar(range(procCount),processorTimes)\n",
    "    plt.ylabel(\"allocation time total / seconds\")\n",
    "    plt.xlabel(\"processors sorted by total allocation\")\n",
    "    plt.xticks([])\n",
    "    plt.show()"
   ]
  },
  {
   "cell_type": "markdown",
   "metadata": {},
   "source": [
    "# The \"Long Pole\" Effect in Gradle's Test Execution\n",
    "\n",
    "When many tests with different runtimes are executed in parallel on multiple processors, the overall test runtime is that of the processor with the highest load as measured by the summed test execution times. Ideally, this approaches the quotient between total test runtime and number of processors.\n",
    "\n",
    "However, when one processor is assigned an unproportionally high load of tests, the overall runtime will be dominated by this processor: It will have to continue to work off tasks after all other processors have finshed, thus becoming the \"long pole\" in the runtime. [This problem can occur in Gradle's parallel test execution](https://github.com/gradle/gradle/issues/2669).\n",
    "\n",
    "In this notebook, we take a look at how Gradle (currently - versions 5.x and early 6) schedules tests and how the long pole problem emerges manifests itself. We investigate an option to improve the situation.\n",
    "\n",
    "A point to make here is that Gradle does not split up a test class for parallelization, so the smallest unit which we distribute is the test class; as we will see below, if we have classes containing long(er)-running, integration-like tests, this increases the potential for running into the \"long pole\" problem. When we talk about a \"test\" below, this will usually translate to a test class (JUnit or similar)."
   ]
  },
  {
   "cell_type": "markdown",
   "metadata": {},
   "source": [
    "## Scheduling\n",
    "\n",
    "Gradle statically pre-assigns tests to parallel processors using a round-robin approach. The allocation is based solely on the incoming order of the classes; it does not take into account test size or other information:"
   ]
  },
  {
   "cell_type": "code",
   "execution_count": 122,
   "metadata": {},
   "outputs": [],
   "source": [
    "def roundRobin(tests, procCount):\n",
    "    \"\"\" \n",
    "    Takes a list of test items and distributes them in a straight-forward round-robin\n",
    "    fashion amongst the number of given processors.\n",
    "    :return: a list of `procCount` lists L1 ...Lx, where each Li denotes the tests assigned\n",
    "             to processor #x.\n",
    "    \"\"\"\n",
    "    procs = [[] for _i in range(procCount)]\n",
    "\n",
    "    for tIdx, test in enumerate(tests):\n",
    "        pos = tIdx % procCount\n",
    "        procs[pos].append(test)\n",
    "    return procs"
   ]
  },
  {
   "cell_type": "markdown",
   "metadata": {},
   "source": [
    "E.g., with 20 tests and 5 processors, they would be allocated as follows:"
   ]
  },
  {
   "cell_type": "code",
   "execution_count": 123,
   "metadata": {},
   "outputs": [
    {
     "name": "stdout",
     "output_type": "stream",
     "text": [
      "proc  0 >   0   5  10  15\n",
      "proc  1 >   1   6  11  16\n",
      "proc  2 >   2   7  12  17\n",
      "proc  3 >   3   8  13  18\n",
      "proc  4 >   4   9  14  19\n"
     ]
    }
   ],
   "source": [
    "prettyPrintAllocations(roundRobin(range(20), 5))"
   ]
  },
  {
   "cell_type": "markdown",
   "metadata": {},
   "source": [
    "So, if tests **0**, **5**, and **10** happen to take very long, processor **0** would become the long pole in this scenario. If the test number is not a multiple of the number of processors, not all processors will get the same number of tests, but the difference in test numbers between two processors will be at most one:"
   ]
  },
  {
   "cell_type": "code",
   "execution_count": 124,
   "metadata": {},
   "outputs": [
    {
     "name": "stdout",
     "output_type": "stream",
     "text": [
      "proc  0 >  0  3  6\n",
      "proc  1 >  1  4  7\n",
      "proc  2 >  2  5\n"
     ]
    }
   ],
   "source": [
    "prettyPrintAllocations(roundRobin(range(8), 3))"
   ]
  },
  {
   "cell_type": "markdown",
   "metadata": {},
   "source": [
    "## Experiments\n",
    "\n",
    "We can take a statistical look at how round-robin scheduling affects the processor loads.\n",
    "\n",
    "### Getting Runtime Examples\n",
    "\n",
    "For test runtime data, we start with Gradle's own test classes. In Gradle's own `build.gradle.kts`, we modify the `allprojects` configuration to make the test classes log their runtimes:"
   ]
  },
  {
   "cell_type": "markdown",
   "metadata": {},
   "source": [
    "```kotlin\n",
    "tasks.withType<Test> {\n",
    "        outputs.upToDateWhen { false }\n",
    "        addTestListener(object : TestListener {\n",
    "            override fun beforeSuite(suite: TestDescriptor) {}\n",
    "            override fun beforeTest(testDescriptor: TestDescriptor) {}\n",
    "            override fun afterTest(testDescriptor: TestDescriptor, result: TestResult) {\n",
    "            }\n",
    "            override fun afterSuite(suite: TestDescriptor, result: TestResult) {\n",
    "                val duration = result.endTime - result.startTime\n",
    "                println(\">>> $suite\\t${duration}\")\n",
    "            }\n",
    "        })\n",
    "    }\n",
    "```"
   ]
  },
  {
   "cell_type": "markdown",
   "metadata": {},
   "source": [
    "The resulting times for a few test series are collected in the folder `gradle_test_stats` (see the scripts `timeGradleTests.sh` and `timesOnly.sh` for their generation). Sorting by runtime in descending order and averaging over the series gives an impression of the test classes' runtime distribution:"
   ]
  },
  {
   "cell_type": "code",
   "execution_count": 125,
   "metadata": {},
   "outputs": [
    {
     "data": {
      "image/png": "[encoded data removed]",
      "text/plain": [
       "<Figure size 432x288 with 1 Axes>"
      ]
     },
     "metadata": {
      "needs_background": "light"
     },
     "output_type": "display_data"
    }
   ],
   "source": [
    "timesFiles = pl.Path(\"gradle_test_stats\").glob(\"*.times\")\n",
    "sums, seriesCount = None, 0\n",
    "for tfName in timesFiles:\n",
    "    with open(tfName) as tff:\n",
    "        vals = sorted((int(l.strip()) for l in tff), reverse=True)\n",
    "        sums = vals if sums is None else [v+s for v,s in zip(vals, sums)]\n",
    "        seriesCount += 1\n",
    "    plt.plot(vals)\n",
    "plt.xlabel(\"tests sorted by runtime\")\n",
    "plt.ylabel(\"runtime / ms\")\n",
    "plt.show()"
   ]
  },
  {
   "cell_type": "code",
   "execution_count": 126,
   "metadata": {},
   "outputs": [
    {
     "name": "stdout",
     "output_type": "stream",
     "text": [
      "Evaluated 16 overall test executions with 2053 test classes each.\n",
      "The total runtime for all test classes was 3348.34 seconds on average.\n",
      "On average, the longest class runtime was 45.06 seconds,\n",
      "the shortest 1.44 milliseconds, with a median of 388.00 milliseconds.\n"
     ]
    }
   ],
   "source": [
    "import statistics as stats\n",
    "runtimes = [s/seriesCount for s in sums]\n",
    "longest, median, shortest = runtimes[0], stats.median(runtimes), runtimes[-1]\n",
    "print(f\"Evaluated {seriesCount} overall test executions with {len(sums)} test classes each.\\n\"\n",
    "      f\"The total runtime for all test classes was {sum(runtimes)/1000:.2f} seconds on average.\\n\"\n",
    "      f\"On average, the longest class runtime was {longest/1000:.2f} seconds,\\n\"\n",
    "      f\"the shortest {shortest:.2f} milliseconds, \"\n",
    "      f\"with a median of {median:.2f} milliseconds.\")"
   ]
  },
  {
   "cell_type": "markdown",
   "metadata": {},
   "source": [
    "The above graph should actually be made up of bars, since each x position is one test, but unfortunately that looked crappy. It looks like some kind of [exponential](https://en.wikipedia.org/wiki/Exponential_distribution) or power law distribution: Very few test of comparatively high runtimes, and a long tail of very short-running tests.\n",
    "\n",
    "If run entirely sequentially, we could expect the test classes to take approx. 55 minutes.\n",
    "\n",
    "### Simulating Load Distribution\n",
    "\n",
    "Given these runtimes, we can simulate what the resulting processor load distributions would be with round robin. Since the ordering in Gradle is currently agnostic with regard to size, we shuffle the test runtimes first. The result might look like this:"
   ]
  },
  {
   "cell_type": "code",
   "execution_count": 127,
   "metadata": {},
   "outputs": [
    {
     "name": "stdout",
     "output_type": "stream",
     "text": [
      "proc  0 > # 514 tests Σ 827.74 seconds\n",
      "proc  1 > # 513 tests Σ 882.89 seconds\n",
      "proc  2 > # 513 tests Σ 779.89 seconds\n",
      "proc  3 > # 513 tests Σ 857.82 seconds\n"
     ]
    }
   ],
   "source": [
    "import random\n",
    "shuffledTimes = list(runtimes)\n",
    "random.shuffle(shuffledTimes)\n",
    "\n",
    "procCount = 4\n",
    "\n",
    "prettyPrintStats(roundRobin(shuffledTimes, procCount))"
   ]
  },
  {
   "cell_type": "markdown",
   "metadata": {},
   "source": [
    "The distribution among the processors will vary, but it will most likely not be even. We can sort the processors by assigned sums, and repeat the whole procedure a few times to get an impression of the skew:"
   ]
  },
  {
   "cell_type": "code",
   "execution_count": 128,
   "metadata": {},
   "outputs": [],
   "source": [
    "def repeatedlyAllocate(testTimes, procCount, seriesCount):\n",
    "    \"\"\"\n",
    "        Shuffle the given test times and repeatedly allocate them to\n",
    "        the given number of processors.\n",
    "        \n",
    "        :return: a list of 'procCount' elements,\n",
    "                 where each list contains the 'seriesCount' test allocations to that processor\n",
    "    \"\"\"\n",
    "\n",
    "    shuffledTimes = testTimes\n",
    "    # for each processor, keep a list of the sum over the tests,\n",
    "    # sorted by summed allocation\n",
    "    pSortedSums = [[] for _ in range(procCount)]\n",
    "    for _s in range(seriesCount):\n",
    "        random.shuffle(shuffledTimes)\n",
    "        # longest first:\n",
    "        sortedSums = sorted([sum(l) for l in roundRobin(shuffledTimes, procCount)], reverse=True)\n",
    "        for pList, s in zip(pSortedSums, sortedSums):\n",
    "            pList.append(s)\n",
    "\n",
    "    return pSortedSums"
   ]
  },
  {
   "cell_type": "code",
   "execution_count": 129,
   "metadata": {},
   "outputs": [
    {
     "data": {
      "image/png": "[encoded data removed]",
      "text/plain": [
       "<Figure size 432x288 with 1 Axes>"
      ]
     },
     "metadata": {
      "needs_background": "light"
     },
     "output_type": "display_data"
    }
   ],
   "source": [
    "seriesCount = 1000\n",
    "pSortedSums = repeatedlyAllocate(shuffledTimes, procCount, seriesCount)\n",
    "plotDistributions(pSortedSums)"
   ]
  },
  {
   "cell_type": "code",
   "execution_count": 130,
   "metadata": {},
   "outputs": [
    {
     "name": "stdout",
     "output_type": "stream",
     "text": [
      "Proc 0 > 922.13 seconds average allocation\n",
      "Proc 1 > 859.02 seconds average allocation\n",
      "Proc 2 > 811.27 seconds average allocation\n",
      "Proc 3 > 755.92 seconds average allocation\n",
      "On average, the longest-running proc took 166.22 seconds (22.0%) longer than the shortest-running one.\n"
     ]
    }
   ],
   "source": [
    "pSums = [sum(l) for l in pSortedSums]\n",
    "processorTimes = [(s/1000)/seriesCount for s in pSums]\n",
    "\n",
    "for pIdx, pTimes in enumerate(processorTimes):\n",
    "    print(f\"Proc {pIdx} > {pTimes:.2f} seconds average allocation\")\n",
    "diff = processorTimes[0]-processorTimes[-1]\n",
    "print(f\"On average, the longest-running proc took {diff:.2f} seconds ({diff/processorTimes[-1]:.1%}) longer than the shortest-running one.\")"
   ]
  },
  {
   "cell_type": "markdown",
   "metadata": {},
   "source": [
    "There is a slight skew, although it (probably - since this depends on random values) does not seem that big. However, there are two _buts_ here:\n",
    "\n",
    "### Bad Ratios\n",
    "\n",
    "This was only the average ratio. The complete histogram over the ratios of highest load / smallest load for the different series looks like this:"
   ]
  },
  {
   "cell_type": "code",
   "execution_count": 131,
   "metadata": {},
   "outputs": [
    {
     "data": {
      "image/png": "[encoded data removed]",
      "text/plain": [
       "<Figure size 432x288 with 1 Axes>"
      ]
     },
     "metadata": {
      "needs_background": "light"
     },
     "output_type": "display_data"
    },
    {
     "name": "stdout",
     "output_type": "stream",
     "text": [
      "In 22.10% of the cases, the highest load is at least 1.3 times the lowest load.\n",
      "The maximum ratio of highest to lowest load is 1.74.\n"
     ]
    }
   ],
   "source": [
    "def plotAllocationRatioDistribution(pSortedSums, tooMuchThreshold=1.3):\n",
    "    highestLoadProc, lowestLoadProc = pSortedSums[0], pSortedSums[-1]\n",
    "\n",
    "    ratios = [h/l for h,l in zip(highestLoadProc, lowestLoadProc)]\n",
    "    plt.hist(ratios)\n",
    "    plt.xlabel(\"ratio highest/lowest processor load\")\n",
    "    plt.ylabel(\"count\")\n",
    "    plt.show()\n",
    "\n",
    "    ratioOfTooMuchRatios = len([r for r in ratios if r >= tooMuchThreshold])/len(ratios)\n",
    "    print(f\"In {ratioOfTooMuchRatios:.2%} of the cases, the highest load is at least {tooMuchThreshold} times the lowest load.\")\n",
    "    print(f\"The maximum ratio of highest to lowest load is {max(ratios):.2f}.\")\n",
    "\n",
    "plotAllocationRatioDistribution(pSortedSums)"
   ]
  },
  {
   "cell_type": "markdown",
   "metadata": {},
   "source": [
    "We can pick out and plot the worst allocation:"
   ]
  },
  {
   "cell_type": "code",
   "execution_count": 132,
   "metadata": {},
   "outputs": [
    {
     "data": {
      "image/png": "[encoded data removed]",
      "text/plain": [
       "<Figure size 432x288 with 1 Axes>"
      ]
     },
     "metadata": {
      "needs_background": "light"
     },
     "output_type": "display_data"
    }
   ],
   "source": [
    "_maxRatio, maxIndex = max((high/low, i) for i, (high, low) in enumerate(zip(pSortedSums[0], pSortedSums[-1])))\n",
    "maxSkewAllocation = [[procList[maxIndex]] for procList in pSortedSums]\n",
    "plotDistributions(maxSkewAllocation)"
   ]
  },
  {
   "cell_type": "markdown",
   "metadata": {},
   "source": [
    "In practice, AFAIK, for a given set of test classes, the order in which they are processed in Gradle is stable. So any particularly bad example of the test series above might be one constantly encountered for a given set of test classes. Apart from that, a single new test class can make the ordering and hence the allocation of the classes change suddenly."
   ]
  },
  {
   "cell_type": "markdown",
   "metadata": {},
   "source": [
    "## Longer tests\n",
    "\n",
    "The Gradle test classes collection represents a rather ideal case: It contains very many test classes with mostly very short runtimes (<1 sec). The results look different when you add test classes with runtimes in the minutes. We can generate a collection of random times (with an admittedly somewhat arbitrarily chosen power law distribution) and add them to the mix:"
   ]
  },
  {
   "cell_type": "code",
   "execution_count": 133,
   "metadata": {},
   "outputs": [
    {
     "data": {
      "image/png": "[encoded data removed]",
      "text/plain": [
       "<Figure size 432x288 with 1 Axes>"
      ]
     },
     "metadata": {
      "needs_background": "light"
     },
     "output_type": "display_data"
    }
   ],
   "source": [
    "import numpy as np\n",
    "\n",
    "longTestsCount = 100\n",
    "maxDurationMs = 10 * 60 * 1000 # 10 mins in ms\n",
    "minDurationMs = 45 * 1000 # 45 secs\n",
    "\n",
    "longerRuntimes = [(maxDurationMs-minDurationMs)*v+minDurationMs for v in np.random.power(0.5, size=(longTestsCount,))]\n",
    "plotTestRuntimeDistribution(longerRuntimes)"
   ]
  },
  {
   "cell_type": "markdown",
   "metadata": {},
   "source": [
    "Adding those to our Gradle tests gives the following overall test times distribution:"
   ]
  },
  {
   "cell_type": "code",
   "execution_count": 134,
   "metadata": {},
   "outputs": [
    {
     "data": {
      "image/png": "[encoded data removed]",
      "text/plain": [
       "<Figure size 432x288 with 1 Axes>"
      ]
     },
     "metadata": {
      "needs_background": "light"
     },
     "output_type": "display_data"
    },
    {
     "name": "stdout",
     "output_type": "stream",
     "text": [
      "Gradle test times = 3348.3 secs\n",
      "Longer test times = 23503.5 secs\n",
      "Total  test times = 26851.9 secs\n"
     ]
    }
   ],
   "source": [
    "allRuntimes = longerRuntimes + runtimes\n",
    "\n",
    "plotTestRuntimeDistribution(allRuntimes)\n",
    "print(f\"Gradle test times = {sum(runtimes)/1000:.1f} secs\")\n",
    "print(f\"Longer test times = {sum(longerRuntimes)/1000:.1f} secs\")\n",
    "print(f\"Total  test times = {sum(allRuntimes)/1000:.1f} secs\")"
   ]
  },
  {
   "cell_type": "markdown",
   "metadata": {},
   "source": [
    "And allocating these tests gives a higher load skew:"
   ]
  },
  {
   "cell_type": "code",
   "execution_count": 135,
   "metadata": {},
   "outputs": [
    {
     "data": {
      "image/png": "[encoded data removed]",
      "text/plain": [
       "<Figure size 432x288 with 1 Axes>"
      ]
     },
     "metadata": {
      "needs_background": "light"
     },
     "output_type": "display_data"
    }
   ],
   "source": [
    "allSortedSums = repeatedlyAllocate(allRuntimes, procCount, seriesCount)\n",
    "plotDistributions(allSortedSums)"
   ]
  },
  {
   "cell_type": "code",
   "execution_count": 136,
   "metadata": {},
   "outputs": [
    {
     "data": {
      "image/png": "[encoded data removed]",
      "text/plain": [
       "<Figure size 432x288 with 1 Axes>"
      ]
     },
     "metadata": {
      "needs_background": "light"
     },
     "output_type": "display_data"
    },
    {
     "name": "stdout",
     "output_type": "stream",
     "text": [
      "In 55.40% of the cases, the highest load is at least 1.5 times the lowest load.\n",
      "The maximum ratio of highest to lowest load is 3.46.\n"
     ]
    }
   ],
   "source": [
    "plotAllocationRatioDistribution(allSortedSums, tooMuchThreshold=1.5)"
   ]
  },
  {
   "cell_type": "code",
   "execution_count": 148,
   "metadata": {},
   "outputs": [
    {
     "name": "stdout",
     "output_type": "stream",
     "text": [
      "1\n"
     ]
    },
    {
     "data": {
      "image/png": "[encoded data removed]",
      "text/plain": [
       "<Figure size 432x288 with 1 Axes>"
      ]
     },
     "metadata": {
      "needs_background": "light"
     },
     "output_type": "display_data"
    }
   ],
   "source": [
    "_maxRatio, maxIndex = max((high/low, i) for i, (high, low) in enumerate(zip(allSortedSums[0], allSortedSums[-1])))\n",
    "maxSkewAllocation = [[procList[maxIndex]] for procList in allSortedSums]\n",
    "plotDistributions(maxSkewAllocation)"
   ]
  },
  {
   "cell_type": "markdown",
   "metadata": {},
   "source": [
    "In all probability, that distribution looks \"long-poley\". (Or \"short-poley\", depending on how the random values came out.) At any rate, it's definitely more skewed than it should be.\n",
    "\n",
    "## Effect Of Sorting\n",
    "\n",
    "Gradle records test durations, so we can use that information to fix the ordering of the tests for allocation. Trying it out is straight-forward:"
   ]
  },
  {
   "cell_type": "code",
   "execution_count": 141,
   "metadata": {},
   "outputs": [
    {
     "name": "stdout",
     "output_type": "stream",
     "text": [
      "proc  0 > # 539 tests Σ 6919.30 seconds\n",
      "proc  1 > # 538 tests Σ 6798.24 seconds\n",
      "proc  2 > # 538 tests Σ 6631.82 seconds\n",
      "proc  3 > # 538 tests Σ 6502.50 seconds\n"
     ]
    }
   ],
   "source": [
    "allRuntimesSorted = sorted(allRuntimes, reverse=True)\n",
    "allocationBySorting = roundRobin(allRuntimesSorted, procCount)\n",
    "prettyPrintStats(allocationBySorting)"
   ]
  },
  {
   "cell_type": "code",
   "execution_count": 152,
   "metadata": {},
   "outputs": [
    {
     "data": {
      "image/png": "[encoded data removed]",
      "text/plain": [
       "<Figure size 432x288 with 1 Axes>"
      ]
     },
     "metadata": {
      "needs_background": "light"
     },
     "output_type": "display_data"
    }
   ],
   "source": [
    "summedAllocation = [[sum(procL)] for procL in allocationBySorting]\n",
    "plotDistributions(summedAllocation)"
   ]
  },
  {
   "cell_type": "markdown",
   "metadata": {},
   "source": [
    "## Shifting Round Robin\n",
    "\n",
    "A very small change to the vanilla round robin is to \"shift\" the allocation systematically: After every iteration through the processors, we don't begin the next round on the same processor as the last round, but shift one processor ahead. E.g., nine tests allocated to three processors:\n",
    "\n",
    "In standard round robin, each block of three starts on processor 0:\n",
    "\n",
    "| test | 0 | 1 | 2 || 3 | 4 | 5 || 6 | 7 | 8 |\n",
    "| -    | - | - | - || - | - | - || - | - | - |\n",
    "| proc | 0 | 1 | 2 || 0 | 1 | 2 || 0 | 1 | 2 | \n",
    "\n",
    "In shifting round robin, the allocations of each block shift through the processors:\n",
    "\n",
    "| test | 0 | 1 | 2 || 3 | 4 | 5 || 6 | 7 | 8 |\n",
    "| -    | - | - | - || - | - | - || - | - | - |\n",
    "| proc | 0 | 1 | 2 || 1 | 2 | 0 || 2 | 0 | 1 |\n",
    "\n"
   ]
  },
  {
   "cell_type": "code",
   "execution_count": 157,
   "metadata": {},
   "outputs": [
    {
     "name": "stdout",
     "output_type": "stream",
     "text": [
      "proc  0 >  20000  15000  10000   5000\n",
      "proc  1 >  19000  14000   9000   4000\n",
      "proc  2 >  18000  13000   8000   3000\n",
      "proc  3 >  17000  12000   7000   2000\n",
      "proc  4 >  16000  11000   6000   1000\n",
      "proc  0 > # 4 tests Σ 50.00 seconds\n",
      "proc  1 > # 4 tests Σ 46.00 seconds\n",
      "proc  2 > # 4 tests Σ 42.00 seconds\n",
      "proc  3 > # 4 tests Σ 38.00 seconds\n",
      "proc  4 > # 4 tests Σ 34.00 seconds\n"
     ]
    }
   ],
   "source": [
    "allocation = roundRobin(sorted([1000*i for i in range(1, 21)], reverse=True), 5)\n",
    "prettyPrintAllocations(allocation)\n",
    "prettyPrintStats(allocation)"
   ]
  },
  {
   "cell_type": "code",
   "execution_count": 159,
   "metadata": {},
   "outputs": [
    {
     "name": "stdout",
     "output_type": "stream",
     "text": [
      "proc  0 >  20000  11000   7000   3000\n",
      "proc  1 >  19000  15000   6000   2000\n",
      "proc  2 >  18000  14000  10000   1000\n",
      "proc  3 >  17000  13000   9000   5000\n",
      "proc  4 >  16000  12000   8000   4000\n",
      "proc  0 > # 4 tests Σ 41.00 seconds\n",
      "proc  1 > # 4 tests Σ 42.00 seconds\n",
      "proc  2 > # 4 tests Σ 43.00 seconds\n",
      "proc  3 > # 4 tests Σ 44.00 seconds\n",
      "proc  4 > # 4 tests Σ 40.00 seconds\n"
     ]
    }
   ],
   "source": [
    "def shiftingRoundRobin(tests, procCount):\n",
    "    \"\"\" \n",
    "    Takes a list of test items and distributes them in a shifting round-robin\n",
    "    fashion amongst the number of given processors.\n",
    "    :return: a list of `procCount` lists L1 ...Lx, where each Li denotes the tests assigned\n",
    "             to processor #x.\n",
    "    \"\"\"\n",
    "    \n",
    "    procs = [[] for _i in range(procCount)]\n",
    "\n",
    "    for tIdx, test in enumerate(tests):\n",
    "        shift = (tIdx//procCount)%procCount\n",
    "        pos = (shift + tIdx) % procCount\n",
    "        procs[pos].append(test)\n",
    "    return procs\n",
    "\n",
    "allocation = shiftingRoundRobin(sorted([1000*i for i in range(1, 21)], reverse=True), 5)\n",
    "prettyPrintAllocations(allocation)\n",
    "prettyPrintStats(allocation)"
   ]
  },
  {
   "cell_type": "code",
   "execution_count": 140,
   "metadata": {},
   "outputs": [
    {
     "name": "stdout",
     "output_type": "stream",
     "text": [
      "proc  0 > # 538 tests Σ 6735.62 seconds\n",
      "proc  1 > # 538 tests Σ 6715.67 seconds\n",
      "proc  2 > # 539 tests Σ 6690.20 seconds\n",
      "proc  3 > # 538 tests Σ 6710.37 seconds\n"
     ]
    }
   ],
   "source": [
    "allRuntimesSorted = sorted(allRuntimes, reverse=True)\n",
    "prettyPrintStats(shiftingRoundRobin(allRuntimesSorted, procCount))"
   ]
  },
  {
   "cell_type": "code",
   "execution_count": null,
   "metadata": {},
   "outputs": [],
   "source": []
  },
  {
   "cell_type": "markdown",
   "metadata": {},
   "source": [
    "## Side Nodes\n",
    "\n",
    "When we use the test runtimes to sort the test classes for allocation, we are making the assumption that the runtimes are a useful statistics for the future runtimes. This will fail if the runtimes are not reliable, e.g., if one processor was strained."
   ]
  }
 ],
 "metadata": {
  "kernelspec": {
   "display_name": "Python 3",
   "language": "python",
   "name": "python3"
  },
  "language_info": {
   "codemirror_mode": {
    "name": "ipython",
    "version": 3
   },
   "file_extension": ".py",
   "mimetype": "text/x-python",
   "name": "python",
   "nbconvert_exporter": "python",
   "pygments_lexer": "ipython3",
   "version": "3.7.5"
  }
 },
 "nbformat": 4,
 "nbformat_minor": 4
}

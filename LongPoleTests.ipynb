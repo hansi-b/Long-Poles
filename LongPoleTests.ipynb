{
 "cells": [
  {
   "cell_type": "code",
   "execution_count": 116,
   "metadata": {},
   "outputs": [],
   "source": [
    "# setup\n",
    "import pathlib as pl\n",
    "import math\n",
    "\n",
    "from matplotlib import pyplot as plt\n",
    "plt.style.use('seaborn')\n",
    "\n",
    "%matplotlib inline\n",
    "# helper functions\n",
    "\n",
    "def prettyPrintAllocations(procTestLists):\n",
    "    \"\"\"\n",
    "        Pretty-prints a list of lists of test assignments for each processor\n",
    "    \"\"\"\n",
    "    pWidth = 1+len(str(len(procTestLists)))\n",
    "    tWidth = 1+len(str(max(e for l in procTestLists for e in l)))\n",
    "    for pIdx, tList in enumerate(procTestLists):        \n",
    "        print(\"proc {:>{pWidth}} > {}\".format(pIdx, \" \".join(\"{:>{tWidth}}\".format(t, tWidth=tWidth) for t in tList),\n",
    "              pWidth=pWidth))\n",
    "\n",
    "def prettyPrintStats(procTestLists):\n",
    "    \"\"\"\n",
    "        Pretty-prints a list of the number and sums of test assignments for each processor\n",
    "    \"\"\"\n",
    "    counts = [len(l) for l in procTestLists]\n",
    "    sums = [sum(l) for l in procTestLists]\n",
    "\n",
    "    pWidth = 1+len(str(len(procTestLists)))\n",
    "    cntWidth = 1+len(str(max(counts)))\n",
    "    sumWidth = 1+len(str(max(int(s) for s in sums)))\n",
    "    for pIdx, (pCnt, pSum) in enumerate(zip(counts, sums)):    \n",
    "        print(\"proc {:>{pWidth}} > #{:>{cntWidth}} tests Σ{:>{sumWidth}.2f} seconds\".format(pIdx, pCnt, pSum/1000,\n",
    "                cntWidth=cntWidth, sumWidth=sumWidth, pWidth=pWidth))\n",
    "\n",
    "def plotTestRuntimeDistribution(testRuntimes):\n",
    "    tCount = len(testRuntimes)\n",
    "\n",
    "    unit = 10**int(math.log10(tCount))\n",
    "    maxTick = unit * (tCount // unit)\n",
    "    \n",
    "    plt.plot(range(tCount), sorted(testRuntimes, reverse=True))\n",
    "    plt.xticks(range(0, 1+maxTick, int(maxTick/5)))\n",
    "    plt.ylabel(\"runtime / msecs\")\n",
    "    plt.xlabel(\"tests sorted by runtime\")\n",
    "    plt.show()\n",
    "    \n",
    "def plotDistributions(pSortedSums):\n",
    "    seriesCount = len(pSortedSums[0])\n",
    "    pSums = [sum(l)/1000 for l in pSortedSums]\n",
    "    processorTimes = [s/seriesCount for s in pSums]\n",
    "\n",
    "    plt.bar(range(procCount),processorTimes)\n",
    "    plt.ylabel(\"allocation time total / seconds\")\n",
    "    plt.xlabel(\"processors sorted by total allocation\")\n",
    "    plt.xticks([])\n",
    "    plt.show()"
   ]
  },
  {
   "cell_type": "markdown",
   "metadata": {},
   "source": [
    "# The \"Long Pole\" Effect in Gradle's Test Execution\n",
    "\n",
    "When many tests with different runtimes are executed in parallel on multiple processors, the overall test runtime is that of the processor with the highest load as measured by the summed test execution times. Ideally, this approaches the quotient between total test runtime and number of processors.\n",
    "\n",
    "However, when one processor is assigned an unproportionally high load of tests, the overall runtime will be dominated by this processor: It will have to continue to work off tasks after all other processors have finished, thus becoming the \"long pole\" in the runtime. [This problem can occur in Gradle's parallel test execution](https://github.com/gradle/gradle/issues/2669).\n",
    "\n",
    "In this notebook, we take a look at how Gradle (in its current versions - 5.x and early 6) schedules tests and how the long pole problem emerges. We investigate an option to improve the situation.\n",
    "\n",
    "A point to make here is that Gradle does not split up a test class for parallelization, so the smallest unit which we distribute is the test class; as we will see below, if we have classes containing long(er)-running, integration-like tests, this increases the potential for running into the \"long pole\" problem. When we talk about a \"test\" below, this will usually translate to a test class (JUnit or similar)."
   ]
  },
  {
   "cell_type": "markdown",
   "metadata": {},
   "source": [
    "## Scheduling\n",
    "\n",
    "Gradle statically pre-assigns tests to parallel processors using a round-robin approach. The allocation is based solely on the incoming order of the test classes; it does not take into account test size or other information:"
   ]
  },
  {
   "cell_type": "code",
   "execution_count": 117,
   "metadata": {},
   "outputs": [],
   "source": [
    "def roundRobin(tests, procCount):\n",
    "    \"\"\" \n",
    "    Takes a list of test items and distributes them in a straight-forward round-robin\n",
    "    fashion amongst the number of given processors.\n",
    "    :return: a list of `procCount` lists L1 ...Lx, where each Li denotes the tests assigned\n",
    "             to processor #x.\n",
    "    \"\"\"\n",
    "    procs = [[] for _i in range(procCount)]\n",
    "\n",
    "    for tIdx, test in enumerate(tests):\n",
    "        pos = tIdx % procCount\n",
    "        procs[pos].append(test)\n",
    "    return procs"
   ]
  },
  {
   "cell_type": "markdown",
   "metadata": {},
   "source": [
    "E.g., with 20 tests and 5 processors, they would be allocated as follows:"
   ]
  },
  {
   "cell_type": "code",
   "execution_count": 118,
   "metadata": {},
   "outputs": [
    {
     "name": "stdout",
     "output_type": "stream",
     "text": [
      "proc  0 >   0   5  10  15\n",
      "proc  1 >   1   6  11  16\n",
      "proc  2 >   2   7  12  17\n",
      "proc  3 >   3   8  13  18\n",
      "proc  4 >   4   9  14  19\n"
     ]
    }
   ],
   "source": [
    "prettyPrintAllocations(roundRobin(range(20), 5))"
   ]
  },
  {
   "cell_type": "markdown",
   "metadata": {},
   "source": [
    "So, if tests **0**, **5**, and **10** happen to take very long, processor **0** would become the long pole in this scenario. If the test number is not a multiple of the number of processors, not all processors will get the same number of tests, but the difference in test numbers between two processors will be at most one:"
   ]
  },
  {
   "cell_type": "code",
   "execution_count": 119,
   "metadata": {},
   "outputs": [
    {
     "name": "stdout",
     "output_type": "stream",
     "text": [
      "proc  0 >  0  3  6\n",
      "proc  1 >  1  4  7\n",
      "proc  2 >  2  5\n"
     ]
    }
   ],
   "source": [
    "prettyPrintAllocations(roundRobin(range(8), 3))"
   ]
  },
  {
   "cell_type": "markdown",
   "metadata": {},
   "source": [
    "## Experiments\n",
    "\n",
    "We can take a statistical look at how round-robin scheduling affects the processor loads.\n",
    "\n",
    "### Getting Runtime Examples\n",
    "\n",
    "For test runtime data, we start with Gradle's own test classes. In Gradle's own `build.gradle.kts`, we modify the `allprojects` configuration to make the test classes log their runtimes:"
   ]
  },
  {
   "cell_type": "markdown",
   "metadata": {},
   "source": [
    "```kotlin\n",
    "tasks.withType<Test> {\n",
    "        outputs.upToDateWhen { false }\n",
    "        addTestListener(object : TestListener {\n",
    "            override fun beforeSuite(suite: TestDescriptor) {}\n",
    "            override fun beforeTest(testDescriptor: TestDescriptor) {}\n",
    "            override fun afterTest(testDescriptor: TestDescriptor, result: TestResult) {\n",
    "            }\n",
    "            override fun afterSuite(suite: TestDescriptor, result: TestResult) {\n",
    "                val duration = result.endTime - result.startTime\n",
    "                println(\">>> $suite\\t${duration}\")\n",
    "            }\n",
    "        })\n",
    "    }\n",
    "```"
   ]
  },
  {
   "cell_type": "markdown",
   "metadata": {},
   "source": [
    "The resulting times for a few test series are collected in the folder `gradle_test_stats` (see the scripts `timeGradleTests.sh` and `timesOnly.sh` for their generation). Sorting by runtime in descending order and averaging over the series gives an impression of the test classes' runtime distribution:"
   ]
  },
  {
   "cell_type": "code",
   "execution_count": 120,
   "metadata": {},
   "outputs": [
    {
     "data": {
      "image/png": "[encoded data removed]",
      "text/plain": [
       "<Figure size 432x288 with 1 Axes>"
      ]
     },
     "metadata": {
      "needs_background": "light"
     },
     "output_type": "display_data"
    }
   ],
   "source": [
    "timesFiles = pl.Path(\"gradle_test_stats\").glob(\"*.times\")\n",
    "sums, seriesCount = None, 0\n",
    "for tfName in timesFiles:\n",
    "    with open(tfName) as tff:\n",
    "        vals = sorted((int(l.strip()) for l in tff), reverse=True)\n",
    "        sums = vals if sums is None else [v+s for v,s in zip(vals, sums)]\n",
    "        seriesCount += 1\n",
    "    plt.plot(vals)\n",
    "plt.xlabel(\"tests sorted by runtime\")\n",
    "plt.ylabel(\"runtime / ms\")\n",
    "plt.show()"
   ]
  },
  {
   "cell_type": "code",
   "execution_count": 121,
   "metadata": {},
   "outputs": [
    {
     "name": "stdout",
     "output_type": "stream",
     "text": [
      "Evaluated 16 overall test executions with 2053 test classes each.\n",
      "The total runtime for all test classes was 3348.34 seconds on average.\n",
      "On average, the longest class runtime was 45.06 seconds,\n",
      "the shortest 1.44 milliseconds, with a median of 388.00 milliseconds.\n"
     ]
    }
   ],
   "source": [
    "import statistics as stats\n",
    "runtimes = [s/seriesCount for s in sums]\n",
    "longest, median, shortest = runtimes[0], stats.median(runtimes), runtimes[-1]\n",
    "print(f\"Evaluated {seriesCount} overall test executions with {len(sums)} test classes each.\\n\"\n",
    "      f\"The total runtime for all test classes was {sum(runtimes)/1000:.2f} seconds on average.\\n\"\n",
    "      f\"On average, the longest class runtime was {longest/1000:.2f} seconds,\\n\"\n",
    "      f\"the shortest {shortest:.2f} milliseconds, \"\n",
    "      f\"with a median of {median:.2f} milliseconds.\")"
   ]
  },
  {
   "cell_type": "markdown",
   "metadata": {},
   "source": [
    "The above graph should actually be made up of bars, since each x position is one test, but unfortunately that looked crappy. It looks like some kind of [exponential](https://en.wikipedia.org/wiki/Exponential_distribution) or power law distribution: Very few test of comparatively high runtimes, and a long tail of very short-running tests.\n",
    "\n",
    "If run entirely sequentially, we could expect the test classes to take approx. 55 minutes.\n",
    "\n",
    "### Simulating Load Distribution\n",
    "\n",
    "Given these runtimes, we can simulate what the resulting processor load distributions would be with round robin. Since the ordering in Gradle is currently agnostic with regard to size, we shuffle the test runtimes first. The result might look like this:"
   ]
  },
  {
   "cell_type": "code",
   "execution_count": 122,
   "metadata": {},
   "outputs": [
    {
     "name": "stdout",
     "output_type": "stream",
     "text": [
      "proc  0 > # 514 tests Σ 856.71 seconds\n",
      "proc  1 > # 513 tests Σ 781.92 seconds\n",
      "proc  2 > # 513 tests Σ 839.05 seconds\n",
      "proc  3 > # 513 tests Σ 870.65 seconds\n"
     ]
    }
   ],
   "source": [
    "import random\n",
    "shuffledTimes = list(runtimes)\n",
    "random.shuffle(shuffledTimes)\n",
    "\n",
    "procCount = 4\n",
    "\n",
    "prettyPrintStats(roundRobin(shuffledTimes, procCount))"
   ]
  },
  {
   "cell_type": "markdown",
   "metadata": {},
   "source": [
    "The distribution among the processors will vary, but it will most likely not be even. We can sort the processors by assigned sums, and repeat the whole procedure a few times to get an impression of the skew:"
   ]
  },
  {
   "cell_type": "code",
   "execution_count": 123,
   "metadata": {},
   "outputs": [],
   "source": [
    "def repeatedlyAllocate(testTimes, procCount, seriesCount):\n",
    "    \"\"\"\n",
    "        Shuffle the given test times and repeatedly allocate them to\n",
    "        the given number of processors.\n",
    "        \n",
    "        :return: a list of 'procCount' elements,\n",
    "                 where each list contains the 'seriesCount' test allocations to that processor\n",
    "    \"\"\"\n",
    "\n",
    "    shuffledTimes = testTimes\n",
    "    # for each processor, keep a list of the sum over the tests,\n",
    "    # sorted by summed allocation\n",
    "    pSortedSums = [[] for _ in range(procCount)]\n",
    "    for _s in range(seriesCount):\n",
    "        random.shuffle(shuffledTimes)\n",
    "        # longest first:\n",
    "        sortedSums = sorted([sum(l) for l in roundRobin(shuffledTimes, procCount)], reverse=True)\n",
    "        for pList, s in zip(pSortedSums, sortedSums):\n",
    "            pList.append(s)\n",
    "\n",
    "    return pSortedSums"
   ]
  },
  {
   "cell_type": "code",
   "execution_count": 124,
   "metadata": {},
   "outputs": [
    {
     "data": {
      "image/png": "[encoded data removed]",
      "text/plain": [
       "<Figure size 432x288 with 1 Axes>"
      ]
     },
     "metadata": {
      "needs_background": "light"
     },
     "output_type": "display_data"
    }
   ],
   "source": [
    "seriesCount = 2000\n",
    "pSortedSums = repeatedlyAllocate(shuffledTimes, procCount, seriesCount)\n",
    "plotDistributions(pSortedSums)"
   ]
  },
  {
   "cell_type": "code",
   "execution_count": 125,
   "metadata": {},
   "outputs": [
    {
     "name": "stdout",
     "output_type": "stream",
     "text": [
      "Proc 0 > 921.08 seconds average allocation\n",
      "Proc 1 > 858.83 seconds average allocation\n",
      "Proc 2 > 811.70 seconds average allocation\n",
      "Proc 3 > 756.72 seconds average allocation\n",
      "On average, the longest-running proc took 164.37 seconds (21.7%) longer than the shortest-running one.\n"
     ]
    }
   ],
   "source": [
    "pSums = [sum(l) for l in pSortedSums]\n",
    "processorTimes = [(s/1000)/seriesCount for s in pSums]\n",
    "\n",
    "for pIdx, pTimes in enumerate(processorTimes):\n",
    "    print(f\"Proc {pIdx} > {pTimes:.2f} seconds average allocation\")\n",
    "diff = processorTimes[0]-processorTimes[-1]\n",
    "print(f\"On average, the longest-running proc took {diff:.2f} seconds ({diff/processorTimes[-1]:.1%}) longer than the shortest-running one.\")"
   ]
  },
  {
   "cell_type": "markdown",
   "metadata": {},
   "source": [
    "There is a slight skew, although it (probably - since this depends on random values) does not seem that big. However, there are two _buts_ here:\n",
    "\n",
    "### Bad Ratios\n",
    "\n",
    "This was only the average ratio. The complete histogram over the ratios of highest load / smallest load for the different series looks like this:"
   ]
  },
  {
   "cell_type": "code",
   "execution_count": 126,
   "metadata": {},
   "outputs": [
    {
     "data": {
      "image/png": "[encoded data removed]",
      "text/plain": [
       "<Figure size 432x288 with 1 Axes>"
      ]
     },
     "metadata": {
      "needs_background": "light"
     },
     "output_type": "display_data"
    },
    {
     "name": "stdout",
     "output_type": "stream",
     "text": [
      "In 20.90% of the cases, the highest load is at least 1.3 times the lowest load.\n",
      "The maximum ratio of highest to lowest load is 1.63.\n"
     ]
    }
   ],
   "source": [
    "def plotAllocationRatioDistribution(pSortedSums, tooMuchThreshold=1.3):\n",
    "    highestLoadProc, lowestLoadProc = pSortedSums[0], pSortedSums[-1]\n",
    "\n",
    "    ratios = [h/l for h,l in zip(highestLoadProc, lowestLoadProc)]\n",
    "    plt.hist(ratios)\n",
    "    plt.xlabel(\"ratio highest/lowest processor load\")\n",
    "    plt.ylabel(\"count\")\n",
    "    plt.show()\n",
    "\n",
    "    ratioOfTooMuchRatios = len([r for r in ratios if r >= tooMuchThreshold])/len(ratios)\n",
    "    print(f\"In {ratioOfTooMuchRatios:.2%} of the cases, the highest load is at least {tooMuchThreshold} times the lowest load.\")\n",
    "    print(f\"The maximum ratio of highest to lowest load is {max(ratios):.2f}.\")\n",
    "\n",
    "plotAllocationRatioDistribution(pSortedSums)"
   ]
  },
  {
   "cell_type": "markdown",
   "metadata": {},
   "source": [
    "We can pick out and plot the worst allocation:"
   ]
  },
  {
   "cell_type": "code",
   "execution_count": 127,
   "metadata": {},
   "outputs": [
    {
     "data": {
      "image/png": "[encoded data removed]",
      "text/plain": [
       "<Figure size 432x288 with 1 Axes>"
      ]
     },
     "metadata": {
      "needs_background": "light"
     },
     "output_type": "display_data"
    }
   ],
   "source": [
    "_maxRatio, maxIndex = max((high/low, i) for i, (high, low) in enumerate(zip(pSortedSums[0], pSortedSums[-1])))\n",
    "maxSkewAllocation = [[procList[maxIndex]] for procList in pSortedSums]\n",
    "plotDistributions(maxSkewAllocation)"
   ]
  },
  {
   "cell_type": "markdown",
   "metadata": {},
   "source": [
    "In practice, AFAIK, for a given set of test classes, the order in which they are processed in Gradle is stable. So any particularly bad example of the test series above might be one constantly encountered for a given set of test classes. Apart from that, a single new test class can make the ordering and hence the class allocation and overall test runtime jump all of a sudden."
   ]
  },
  {
   "cell_type": "markdown",
   "metadata": {},
   "source": [
    "## Longer tests\n",
    "\n",
    "The Gradle test classes collection represents a rather ideal case: It contains very many test classes with mostly very short runtimes (<1 sec). The results look different when you add test classes with runtimes in the minutes. We can generate a collection of random times (with an admittedly somewhat arbitrarily chosen power law distribution) and add them to the mix:"
   ]
  },
  {
   "cell_type": "code",
   "execution_count": 128,
   "metadata": {},
   "outputs": [
    {
     "data": {
      "image/png": "[encoded data removed]",
      "text/plain": [
       "<Figure size 432x288 with 1 Axes>"
      ]
     },
     "metadata": {
      "needs_background": "light"
     },
     "output_type": "display_data"
    }
   ],
   "source": [
    "import numpy as np\n",
    "\n",
    "longTestsCount = 100\n",
    "maxDurationMs = 10 * 60 * 1000 # 10 mins in ms\n",
    "minDurationMs = 45 * 1000 # 45 secs\n",
    "\n",
    "longerRuntimes = [(maxDurationMs-minDurationMs)*v+minDurationMs for v in np.random.power(0.5, size=(longTestsCount,))]\n",
    "plotTestRuntimeDistribution(longerRuntimes)"
   ]
  },
  {
   "cell_type": "markdown",
   "metadata": {},
   "source": [
    "Adding those to our Gradle tests gives the following overall test times distribution:"
   ]
  },
  {
   "cell_type": "code",
   "execution_count": 129,
   "metadata": {},
   "outputs": [
    {
     "data": {
      "image/png": "[encoded data removed]",
      "text/plain": [
       "<Figure size 432x288 with 1 Axes>"
      ]
     },
     "metadata": {
      "needs_background": "light"
     },
     "output_type": "display_data"
    },
    {
     "name": "stdout",
     "output_type": "stream",
     "text": [
      "Gradle test times = 3348.3 secs\n",
      "Longer test times = 22660.1 secs\n",
      "Total  test times = 26008.4 secs\n"
     ]
    }
   ],
   "source": [
    "allRuntimes = longerRuntimes + runtimes\n",
    "\n",
    "plotTestRuntimeDistribution(allRuntimes)\n",
    "print(f\"Gradle test times = {sum(runtimes)/1000:.1f} secs\")\n",
    "print(f\"Longer test times = {sum(longerRuntimes)/1000:.1f} secs\")\n",
    "print(f\"Total  test times = {sum(allRuntimes)/1000:.1f} secs\")"
   ]
  },
  {
   "cell_type": "markdown",
   "metadata": {},
   "source": [
    "And allocating these tests gives a higher load skew:"
   ]
  },
  {
   "cell_type": "code",
   "execution_count": 130,
   "metadata": {},
   "outputs": [
    {
     "data": {
      "image/png": "[encoded data removed]",
      "text/plain": [
       "<Figure size 432x288 with 1 Axes>"
      ]
     },
     "metadata": {
      "needs_background": "light"
     },
     "output_type": "display_data"
    }
   ],
   "source": [
    "allSortedSums = repeatedlyAllocate(allRuntimes, procCount, seriesCount)\n",
    "plotDistributions(allSortedSums)"
   ]
  },
  {
   "cell_type": "code",
   "execution_count": 131,
   "metadata": {},
   "outputs": [
    {
     "data": {
      "image/png": "[encoded data removed]",
      "text/plain": [
       "<Figure size 432x288 with 1 Axes>"
      ]
     },
     "metadata": {
      "needs_background": "light"
     },
     "output_type": "display_data"
    },
    {
     "name": "stdout",
     "output_type": "stream",
     "text": [
      "In 54.70% of the cases, the highest load is at least 1.5 times the lowest load.\n",
      "The maximum ratio of highest to lowest load is 3.30.\n"
     ]
    }
   ],
   "source": [
    "plotAllocationRatioDistribution(allSortedSums, tooMuchThreshold=1.5)"
   ]
  },
  {
   "cell_type": "code",
   "execution_count": 132,
   "metadata": {},
   "outputs": [
    {
     "data": {
      "image/png": "[encoded data removed]",
      "text/plain": [
       "<Figure size 432x288 with 1 Axes>"
      ]
     },
     "metadata": {
      "needs_background": "light"
     },
     "output_type": "display_data"
    }
   ],
   "source": [
    "_maxRatio, maxIndex = max((high/low, i) for i, (high, low) in enumerate(zip(allSortedSums[0], allSortedSums[-1])))\n",
    "maxSkewAllocation = [[procList[maxIndex]] for procList in allSortedSums]\n",
    "plotDistributions(maxSkewAllocation)"
   ]
  },
  {
   "cell_type": "markdown",
   "metadata": {},
   "source": [
    "In all likelihood, that distribution looks \"long-poley\". (Or \"short-poley\" with a single lazy processor, or just extremely skewed, depending on how the random values came out.) At any rate, the lowest and highest loads are bound to be far more apart than they should be.\n",
    "\n",
    "## Effect Of Sorting\n",
    "\n",
    "Gradle records test durations, so we can use that information to fix the ordering of the tests for allocation. Trying it out is straight-forward:"
   ]
  },
  {
   "cell_type": "code",
   "execution_count": 133,
   "metadata": {},
   "outputs": [
    {
     "name": "stdout",
     "output_type": "stream",
     "text": [
      "proc  0 > # 539 tests Σ 6718.23 seconds\n",
      "proc  1 > # 538 tests Σ 6581.94 seconds\n",
      "proc  2 > # 538 tests Σ 6439.02 seconds\n",
      "proc  3 > # 538 tests Σ 6269.21 seconds\n"
     ]
    }
   ],
   "source": [
    "allRuntimesSorted = sorted(allRuntimes, reverse=True)\n",
    "allocationBySorting = roundRobin(allRuntimesSorted, procCount)\n",
    "prettyPrintStats(allocationBySorting)"
   ]
  },
  {
   "cell_type": "code",
   "execution_count": 134,
   "metadata": {},
   "outputs": [
    {
     "data": {
      "image/png": "[encoded data removed]",
      "text/plain": [
       "<Figure size 432x288 with 1 Axes>"
      ]
     },
     "metadata": {
      "needs_background": "light"
     },
     "output_type": "display_data"
    }
   ],
   "source": [
    "summedAllocations = [[sum(procL)] for procL in allocationBySorting]\n",
    "plotDistributions(summedAllocations)"
   ]
  },
  {
   "cell_type": "code",
   "execution_count": 135,
   "metadata": {},
   "outputs": [
    {
     "name": "stdout",
     "output_type": "stream",
     "text": [
      "For the allocation with sorting, the ratio between highest and lowest load is 1.07 (or an increase of 7.16%).\n"
     ]
    }
   ],
   "source": [
    "roRoRatio = (summedAllocations[0]/summedAllocations[-1][0])[0]\n",
    "print(f\"For the allocation with sorting, the ratio between highest and lowest load is {roRoRatio:.2f} (or an increase of {roRoRatio-1:.2%}).\")"
   ]
  },
  {
   "cell_type": "markdown",
   "metadata": {},
   "source": [
    "The allocation across the processors is clearly more even. We can also contrast this specific allocation with the set of random ones from the previous experiments:"
   ]
  },
  {
   "cell_type": "code",
   "execution_count": 136,
   "metadata": {},
   "outputs": [
    {
     "name": "stdout",
     "output_type": "stream",
     "text": [
      "Of the random allocations, 99.50% have a worse highest/lowest load ratio than the allocation with sorting.\n"
     ]
    }
   ],
   "source": [
    "allRatios = [high/low for high, low in zip(allSortedSums[0], allSortedSums[-1])]\n",
    "equalOrHigherRatios = [r for r in allRatios if r > roRoRatio]\n",
    "print(f\"Of the random allocations, {len(equalOrHigherRatios)/len(allRatios):.2%} have a worse highest/lowest load ratio than the allocation with sorting.\")"
   ]
  },
  {
   "cell_type": "markdown",
   "metadata": {},
   "source": [
    "It seems fair to say that sorting by size before allocating provides an enormous advantage.\n",
    "\n",
    "However, combining sorting with round robin has the flaw of introducing a systematic imbalance: Given *n* processors, we are partitioning the tests into consecutive subsequences of length *n* each. Since the tests are sorted by sice, each subsequence also begins with its largest test and ends with the smallest. And since each subsequence is assigned from processor *#0* to processor *(n-1)*, the first processor always gets the largest test of each subsequence, and the last processor always the smallest."
   ]
  },
  {
   "cell_type": "markdown",
   "metadata": {},
   "source": [
    "## Shifting Round Robin\n",
    "\n",
    "We can break up the imbalance of sorted allocation with round robin through a minimal change: After every allocation of a test subsequence to the processors, we don't start the next allocation round on the same processor as the last round, but shift one processor ahead. E.g., nine tests allocated to three processors:\n",
    "\n",
    "In standard round robin, each block of three starts on processor 0:\n",
    "\n",
    "| test | 0 | 1 | 2 || 3 | 4 | 5 || 6 | 7 | 8 |\n",
    "| -    | - | - | - || - | - | - || - | - | - |\n",
    "| proc | 0 | 1 | 2 || 0 | 1 | 2 || 0 | 1 | 2 | \n",
    "\n",
    "In shifting round robin, the allocations of each block shift through the processors:\n",
    "\n",
    "| test | 0 | 1 | 2 || 3 | 4 | 5 || 6 | 7 | 8 |\n",
    "| -    | - | - | - || - | - | - || - | - | - |\n",
    "| proc | 0 | 1 | 2 || 1 | 2 | 0 || 2 | 0 | 1 |\n",
    "\n",
    "As a result, the processors each get a rotating share of each subsequence. E.g., the first processor will get the largest test of the first sequence, but the smallest of the second, and so on. The invariant of the number of tests being distributed as evenly as possible is maintained, but the sizes are \"smeared\" across the processors. A toy example with tests of simple, linearly increasing sizes illustrates the effect.\n",
    "\n",
    "Doing standard round robin with sorted tests first:"
   ]
  },
  {
   "cell_type": "code",
   "execution_count": 137,
   "metadata": {},
   "outputs": [
    {
     "name": "stdout",
     "output_type": "stream",
     "text": [
      "proc  0 >  2000  1500  1000   500\n",
      "proc  1 >  1900  1400   900   400\n",
      "proc  2 >  1800  1300   800   300\n",
      "proc  3 >  1700  1200   700   200\n",
      "proc  4 >  1600  1100   600   100\n",
      "\n",
      "proc  0 > # 4 tests Σ 5.00 seconds\n",
      "proc  1 > # 4 tests Σ 4.60 seconds\n",
      "proc  2 > # 4 tests Σ 4.20 seconds\n",
      "proc  3 > # 4 tests Σ 3.80 seconds\n",
      "proc  4 > # 4 tests Σ 3.40 seconds\n"
     ]
    }
   ],
   "source": [
    "allocation = roundRobin(sorted([100*i for i in range(1, 21)], reverse=True), 5)\n",
    "prettyPrintAllocations(allocation)\n",
    "print()\n",
    "prettyPrintStats(allocation)"
   ]
  },
  {
   "cell_type": "code",
   "execution_count": 138,
   "metadata": {},
   "outputs": [
    {
     "name": "stdout",
     "output_type": "stream",
     "text": [
      "proc  0 >  2000  1100   700   300\n",
      "proc  1 >  1900  1500   600   200\n",
      "proc  2 >  1800  1400  1000   100\n",
      "proc  3 >  1700  1300   900   500\n",
      "proc  4 >  1600  1200   800   400\n",
      "\n",
      "proc  0 > # 4 tests Σ 4.10 seconds\n",
      "proc  1 > # 4 tests Σ 4.20 seconds\n",
      "proc  2 > # 4 tests Σ 4.30 seconds\n",
      "proc  3 > # 4 tests Σ 4.40 seconds\n",
      "proc  4 > # 4 tests Σ 4.00 seconds\n"
     ]
    }
   ],
   "source": [
    "def shiftingRoundRobin(tests, procCount):\n",
    "    \"\"\" \n",
    "    Takes a list of test items and distributes them in a shifting round-robin\n",
    "    fashion amongst the number of given processors.\n",
    "    :return: a list of `procCount` lists L1 ...Lx, where each Li denotes the tests assigned\n",
    "             to processor #x.\n",
    "    \"\"\"\n",
    "    \n",
    "    procs = [[] for _i in range(procCount)]\n",
    "\n",
    "    for tIdx, test in enumerate(tests):\n",
    "        shift = (tIdx//procCount)%procCount\n",
    "        pos = (shift + tIdx) % procCount\n",
    "        procs[pos].append(test)\n",
    "    return procs\n",
    "\n",
    "allocation = shiftingRoundRobin(sorted([100*i for i in range(1, 21)], reverse=True), 5)\n",
    "prettyPrintAllocations(allocation)\n",
    "print()\n",
    "prettyPrintStats(allocation)"
   ]
  },
  {
   "cell_type": "markdown",
   "metadata": {},
   "source": [
    "With standard round robin, we get a ratio of 5.0 to 3.4 for highest / lowest processor load. With shifting round robin, this is reduced to 4.4 to 4.0. For our scenario with long tests, the effect is also noticeable:"
   ]
  },
  {
   "cell_type": "code",
   "execution_count": 139,
   "metadata": {},
   "outputs": [
    {
     "name": "stdout",
     "output_type": "stream",
     "text": [
      "proc  0 > # 538 tests Σ 6440.94 seconds\n",
      "proc  1 > # 538 tests Σ 6526.97 seconds\n",
      "proc  2 > # 539 tests Σ 6545.12 seconds\n",
      "proc  3 > # 538 tests Σ 6495.37 seconds\n"
     ]
    }
   ],
   "source": [
    "allRuntimesSorted = sorted(allRuntimes, reverse=True)\n",
    "shiftingRoRoAllocation=shiftingRoundRobin(allRuntimesSorted, procCount)\n",
    "prettyPrintStats(shiftingRoRoAllocation)"
   ]
  },
  {
   "cell_type": "code",
   "execution_count": 140,
   "metadata": {},
   "outputs": [
    {
     "name": "stdout",
     "output_type": "stream",
     "text": [
      "For the allocation with sorting, the ratio between highest and lowest load is 1.06 (or an increase of 5.90%).\n",
      "Of the random allocations, 99.75% have a worse highest/lowest load ratio than sorting + shifting.\n"
     ]
    }
   ],
   "source": [
    "shiftingRatio = (shiftingRoRoAllocation[0]/shiftingRoRoAllocation[-1][0])[0]\n",
    "print(f\"For the allocation with sorting, the ratio between highest and lowest load is {shiftingRatio:.2f} (or an increase of {shiftingRatio-1:.2%}).\")\n",
    "allRatios = [high/low for high, low in zip(allSortedSums[0], allSortedSums[-1])]\n",
    "equalOrHigherRatios = [r for r in allRatios if r > shiftingRatio]\n",
    "print(f\"Of the random allocations, {len(equalOrHigherRatios)/len(allRatios):.2%} have a worse highest/lowest load ratio than sorting + shifting.\")"
   ]
  },
  {
   "cell_type": "markdown",
   "metadata": {},
   "source": [
    "Evidently, this improvement can only happen when sorting the tests first. If we use unsorted input, we get the same random results (so it does not hurt either)."
   ]
  },
  {
   "cell_type": "markdown",
   "metadata": {},
   "source": [
    "## Side Nodes\n",
    "\n",
    "1. When we use previous test runtimes to sort the test classes for allocation, we are assuming that these runtimes are a useful statistics for future runtimes. This will fail if the runtimes are not reliable, e.g., if one processor was strained. Using more data from previous runs might make this more stable.\n",
    "2. When we add new tests to our test collection, tests for which we have no previous runtime information, we cannot do much about them but add them after or before all the other tests and hope for the best.\n"
   ]
  }
 ],
 "metadata": {
  "kernelspec": {
   "display_name": "Python 3",
   "language": "python",
   "name": "python3"
  },
  "language_info": {
   "codemirror_mode": {
    "name": "ipython",
    "version": 3
   },
   "file_extension": ".py",
   "mimetype": "text/x-python",
   "name": "python",
   "nbconvert_exporter": "python",
   "pygments_lexer": "ipython3",
   "version": "3.7.5"
  }
 },
 "nbformat": 4,
 "nbformat_minor": 4
}

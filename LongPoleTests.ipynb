{
 "cells": [
  {
   "cell_type": "markdown",
   "metadata": {},
   "source": [
    "# The \"Long Pole\" Effect in Gradle's Test Execution\n",
    "\n",
    "When we assign a number of tests (with different runtimes) to multiple processors for parallel execution, the overall test runtime is that of the processor with the highest load as measured by the summed test execution times. Ideally, this approaches the quotient between total test runtime and number of processors. However, when one processor is assigned an unproportionally high load of tests, the overall runtime will depend on this processor: It will have to continue to work off tasks after all other processors have finshed, thus becoming the \"long pole\" in the runtime.\n",
    "\n",
    "This phenomenon has been [discussed for Gradle's parallel test execution](https://github.com/gradle/gradle/issues/2669)."
   ]
  },
  {
   "cell_type": "code",
   "execution_count": 39,
   "metadata": {},
   "outputs": [],
   "source": [
    "def roundRobin(tests, procCount):\n",
    "    \"\"\" \n",
    "    Takes a list of test items and distributes them in a straight-forward round-robin\n",
    "    fashion amongst the number of given processors.\n",
    "    :return: a list of `procCount` lists L1 ...Lx, where each Li denotes the tests assigned\n",
    "             to processor #x.\n",
    "    \"\"\"\n",
    "    procs = [[] for _i in range(procCount)]\n",
    "\n",
    "    for tIdx, test in enumerate(tests):\n",
    "        pos = tIdx % procCount\n",
    "        procs[pos].append(test)\n",
    "    return procs"
   ]
  },
  {
   "cell_type": "code",
   "execution_count": 40,
   "metadata": {},
   "outputs": [],
   "source": [
    "def prettyPr(procTestLists):\n",
    "    \"\"\"\n",
    "        Pretty-prints a list of lists of test assignments\n",
    "    \"\"\"\n",
    "    pWidth = 1+len(str(len(procTestLists)))\n",
    "    tWidth = 1+len(str(max(e for l in procTestLists for e in l)))\n",
    "    for pIdx, tList in enumerate(procTestLists):        \n",
    "        print(\"proc {:>{pWidth}} > {}\".format(pIdx, \" \".join(\"{:>{tWidth}}\".format(t, tWidth=tWidth) for t in tList),\n",
    "              pWidth=pWidth))"
   ]
  },
  {
   "cell_type": "markdown",
   "metadata": {},
   "source": [
    "## Scheduling\n",
    "\n",
    "Gradle currently uses a round-robin approach to evenly pre-distribute tests to multiple processors. If we have 20 tests and 5 processors, they would be allocated as follows:"
   ]
  },
  {
   "cell_type": "code",
   "execution_count": 41,
   "metadata": {},
   "outputs": [
    {
     "name": "stdout",
     "output_type": "stream",
     "text": [
      "proc  0 >   0   5  10  15\n",
      "proc  1 >   1   6  11  16\n",
      "proc  2 >   2   7  12  17\n",
      "proc  3 >   3   8  13  18\n",
      "proc  4 >   4   9  14  19\n"
     ]
    }
   ],
   "source": [
    "prettyPr(roundRobin(range(20), 5))"
   ]
  },
  {
   "cell_type": "markdown",
   "metadata": {},
   "source": [
    "This allocation is based solely on the order of the tests; it does not take into account size information. E.g., if tests 0, 5, and 10 happen to be very long, processor 0 would become the long pole in this scenario."
   ]
  },
  {
   "cell_type": "code",
   "execution_count": 4,
   "metadata": {},
   "outputs": [],
   "source": [
    "def shiftingRoundRobin(tests, procCount):\n",
    "    \"\"\" \n",
    "    Takes a list of test items and distributes them in a shifting round-robin\n",
    "    fashion amongst the number of given processors.\n",
    "    :return: a list of `procCount` lists L1 ...Lx, where each Li denotes the tests assigned\n",
    "             to processor #x.\n",
    "    \"\"\"\n",
    "    \n",
    "    procs = [[] for _i in range(procCount)]\n",
    "\n",
    "    for tIdx, test in enumerate(tests):\n",
    "        shift = (tIdx//procCount)%procCount\n",
    "        pos = (shift + tIdx) % procCount\n",
    "        procs[pos].append(test)\n",
    "    return procs"
   ]
  },
  {
   "cell_type": "code",
   "execution_count": 37,
   "metadata": {},
   "outputs": [
    {
     "name": "stdout",
     "output_type": "stream",
     "text": [
      "proc  0 >   0   5   7   9  14\n",
      "proc  1 >   1   3   8  10  12\n",
      "proc  2 >   2   4   6  11  13\n"
     ]
    }
   ],
   "source": [
    "res = shiftingRoundRobin(range(15), 3)\n",
    "prettyPr(res)"
   ]
  },
  {
   "cell_type": "code",
   "execution_count": null,
   "metadata": {},
   "outputs": [],
   "source": []
  }
 ],
 "metadata": {
  "kernelspec": {
   "display_name": "Python 3",
   "language": "python",
   "name": "python3"
  },
  "language_info": {
   "codemirror_mode": {
    "name": "ipython",
    "version": 3
   },
   "file_extension": ".py",
   "mimetype": "text/x-python",
   "name": "python",
   "nbconvert_exporter": "python",
   "pygments_lexer": "ipython3",
   "version": "3.7.5"
  }
 },
 "nbformat": 4,
 "nbformat_minor": 4
}
